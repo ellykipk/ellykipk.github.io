{
 "cells": [
  {
   "cell_type": "markdown",
   "id": "31e377cb-5a12-4b21-8fe4-16343bb8b036",
   "metadata": {},
   "source": [
    "### An attempt at reproducing Min's results"
   ]
  },
  {
   "cell_type": "code",
   "execution_count": 1,
   "id": "0441a476-8b13-4623-a900-188428c92874",
   "metadata": {},
   "outputs": [],
   "source": [
    "tab_fig_path='/burg/biostats/users/ek3235/RCTcontamination/contamiation_in_rct/tables_and_figures/'"
   ]
  },
  {
   "cell_type": "code",
   "execution_count": 2,
   "id": "b78c689e-6187-4185-b667-1578ebfbb678",
   "metadata": {},
   "outputs": [
    {
     "name": "stderr",
     "output_type": "stream",
     "text": [
      "Loading required package: Matrix\n",
      "\n",
      "\n",
      "Attaching package: ‘Matrix’\n",
      "\n",
      "\n",
      "The following objects are masked from ‘package:tidyr’:\n",
      "\n",
      "    expand, pack, unpack\n",
      "\n",
      "\n",
      "Loading required package: foreach\n",
      "\n",
      "Loading required package: iterators\n",
      "\n"
     ]
    }
   ],
   "source": [
    "source('utils.r') # heritable functions. Add plot functions later"
   ]
  },
  {
   "cell_type": "code",
   "execution_count": 3,
   "id": "ebedd0d6-893d-402c-a137-97aaac3bd6f7",
   "metadata": {},
   "outputs": [
    {
     "data": {
      "text/html": [
       "0.807429578813821"
      ],
      "text/latex": [
       "0.807429578813821"
      ],
      "text/markdown": [
       "0.807429578813821"
      ],
      "text/plain": [
       "[1] 0.8074296"
      ]
     },
     "metadata": {},
     "output_type": "display_data"
    }
   ],
   "source": [
    "# calculate sample size for specitific type I and II errors and effect size. \n",
    "n.group1=cont.sample.size(\n",
    "                m1=1.0,\n",
    "                m2=1.2,\n",
    "                sd=1,\n",
    "                type_I_error=0.05, \n",
    "                type_II_error=0.2)\n",
    "\n",
    "# calculate power from fixed sample size \n",
    "pwr.func(n=400, \n",
    "        m1=1.0,\n",
    "        m2=1.2,\n",
    "        sd=1,\n",
    "        type_I_error=0.05)"
   ]
  },
  {
   "cell_type": "markdown",
   "id": "3721eb62-eb6a-4615-91a1-98c96c9c0c99",
   "metadata": {},
   "source": [
    "$\\textbf{2. Randomize to treatment then assign to doctors in a controlled fashion}$\n",
    "\n",
    "That is, randomize such that each doctor gets equal number of intervetion and control patients."
   ]
  },
  {
   "cell_type": "code",
   "execution_count": 4,
   "id": "0ed72cda-01b3-4253-8850-557fe4b2a396",
   "metadata": {},
   "outputs": [
    {
     "data": {
      "text/html": [
       "<table class=\"dataframe\">\n",
       "<caption>A data.frame: 6 × 4</caption>\n",
       "<thead>\n",
       "\t<tr><th></th><th scope=col>y</th><th scope=col>trt</th><th scope=col>cluster.assigned</th><th scope=col>cluster_random_interc</th></tr>\n",
       "\t<tr><th></th><th scope=col>&lt;dbl&gt;</th><th scope=col>&lt;int&gt;</th><th scope=col>&lt;int&gt;</th><th scope=col>&lt;dbl&gt;</th></tr>\n",
       "</thead>\n",
       "<tbody>\n",
       "\t<tr><th scope=row>1</th><td> 0.3348689</td><td>0</td><td>1</td><td>0.2003752</td></tr>\n",
       "\t<tr><th scope=row>2</th><td>-0.9104812</td><td>0</td><td>1</td><td>0.2003752</td></tr>\n",
       "\t<tr><th scope=row>3</th><td>-0.2449106</td><td>0</td><td>1</td><td>0.2003752</td></tr>\n",
       "\t<tr><th scope=row>4</th><td>-0.7243004</td><td>0</td><td>1</td><td>0.2003752</td></tr>\n",
       "\t<tr><th scope=row>5</th><td> 0.8415747</td><td>0</td><td>1</td><td>0.2003752</td></tr>\n",
       "\t<tr><th scope=row>6</th><td> 1.2453127</td><td>0</td><td>1</td><td>0.2003752</td></tr>\n",
       "</tbody>\n",
       "</table>\n"
      ],
      "text/latex": [
       "A data.frame: 6 × 4\n",
       "\\begin{tabular}{r|llll}\n",
       "  & y & trt & cluster.assigned & cluster\\_random\\_interc\\\\\n",
       "  & <dbl> & <int> & <int> & <dbl>\\\\\n",
       "\\hline\n",
       "\t1 &  0.3348689 & 0 & 1 & 0.2003752\\\\\n",
       "\t2 & -0.9104812 & 0 & 1 & 0.2003752\\\\\n",
       "\t3 & -0.2449106 & 0 & 1 & 0.2003752\\\\\n",
       "\t4 & -0.7243004 & 0 & 1 & 0.2003752\\\\\n",
       "\t5 &  0.8415747 & 0 & 1 & 0.2003752\\\\\n",
       "\t6 &  1.2453127 & 0 & 1 & 0.2003752\\\\\n",
       "\\end{tabular}\n"
      ],
      "text/markdown": [
       "\n",
       "A data.frame: 6 × 4\n",
       "\n",
       "| <!--/--> | y &lt;dbl&gt; | trt &lt;int&gt; | cluster.assigned &lt;int&gt; | cluster_random_interc &lt;dbl&gt; |\n",
       "|---|---|---|---|---|\n",
       "| 1 |  0.3348689 | 0 | 1 | 0.2003752 |\n",
       "| 2 | -0.9104812 | 0 | 1 | 0.2003752 |\n",
       "| 3 | -0.2449106 | 0 | 1 | 0.2003752 |\n",
       "| 4 | -0.7243004 | 0 | 1 | 0.2003752 |\n",
       "| 5 |  0.8415747 | 0 | 1 | 0.2003752 |\n",
       "| 6 |  1.2453127 | 0 | 1 | 0.2003752 |\n",
       "\n"
      ],
      "text/plain": [
       "  y          trt cluster.assigned cluster_random_interc\n",
       "1  0.3348689 0   1                0.2003752            \n",
       "2 -0.9104812 0   1                0.2003752            \n",
       "3 -0.2449106 0   1                0.2003752            \n",
       "4 -0.7243004 0   1                0.2003752            \n",
       "5  0.8415747 0   1                0.2003752            \n",
       "6  1.2453127 0   1                0.2003752            "
      ]
     },
     "metadata": {},
     "output_type": "display_data"
    },
    {
     "data": {
      "text/plain": [
       "                 trt\n",
       "cluster.assigment  0  1\n",
       "               1  43 37\n",
       "               2  40 40\n",
       "               3  40 40\n",
       "               4  40 40\n",
       "               5  40 40\n",
       "               6  40 40\n",
       "               7  40 40\n",
       "               8  40 40\n",
       "               9  40 40\n",
       "               10 40 40"
      ]
     },
     "metadata": {},
     "output_type": "display_data"
    },
    {
     "data": {
      "text/html": [
       "0.0877599470959742"
      ],
      "text/latex": [
       "0.0877599470959742"
      ],
      "text/markdown": [
       "0.0877599470959742"
      ],
      "text/plain": [
       "[1] 0.08775995"
      ]
     },
     "metadata": {},
     "output_type": "display_data"
    }
   ],
   "source": [
    "# Randomize to treatment but assign to clusters in a controlled manner as described above\n",
    "\n",
    "options(scipen=999)\n",
    "beta=0.2 # treatment effect. \n",
    "sigma_e=1\n",
    "# calculate the required sample size for cluster randomization. Suppose that we have a fixed number of clusters and that there are equal number of subjects within each cluster. \n",
    "n.group1=cont.sample.size(m1=9.0,\n",
    "                 m2=9.0+beta,\n",
    "                 sd=sigma_e,\n",
    "                 type_I_error=0.05, \n",
    "                 type_II_error=0.2)\n",
    "\n",
    "\n",
    "k=10 # 10, 20, 50, 100 , the number of equal sized clusters\n",
    "ni=400 # a fixed number of subjects per treatment group\n",
    "N=ni*2 # total number of patients in the trial. \n",
    "\n",
    "# calculate the variance for cluster random effect. \n",
    "icc=0.5   #k/(n.group1) # maximum allowable icc for the current number of clusters is  k/n.group1\n",
    "\n",
    "sigma_b=icc*sigma_e/(1-icc)\n",
    "\n",
    "\n",
    "# Randomize patients to treatment \n",
    "trt=rbinom(n=N,size=1, prob=0.5)\n",
    "\n",
    "trt=sort(trt) # sort \n",
    "\n",
    "## Assign to clusters in a controlled fashion. \n",
    "cluster.assigment=c( rep(1:k, each=ni/k ), rep(1:k, each=ni/k ))\n",
    "\n",
    "# # x-beta \n",
    "xb=beta*trt # make sure to use the treatment variable that acts behind the scene!\n",
    "\n",
    "# # simulate cluster random intercept (for now)  \n",
    "clust.eff=rnorm(n=k, mean=0, sigma_b) # number of clusters is k\n",
    "\n",
    "clust.eff.vec=clust.eff[cluster.assigment] # assign each cluster to its random intercept \n",
    "\n",
    "# # generate outcome variable yijk using equation in model 1. \n",
    "y=rnorm(N, mean=xb,  sigma_e)+clust.eff.vec\n",
    "\n",
    "# # combine into a dataframe \n",
    "\n",
    "clust.df=data.frame(y=y, trt=trt,cluster.assigned=cluster.assigment, \n",
    "                    cluster_random_interc=clust.eff.vec) # add icc, number of clusters at a later date. \n",
    "\n",
    "head(clust.df)\n",
    "\n",
    "# sanity checks\n",
    "table(cluster.assigment, trt)\n",
    "\n",
    "t.test(y~trt, data=clust.df)$p.value"
   ]
  },
  {
   "cell_type": "code",
   "execution_count": 5,
   "id": "05fb5c15-1655-4ba7-9feb-a5b22c13f048",
   "metadata": {},
   "outputs": [
    {
     "data": {
      "image/png": "[encoded data removed]",
      "text/plain": [
       "plot without title"
      ]
     },
     "metadata": {
      "image/png": {
       "height": 300,
       "width": 720
      }
     },
     "output_type": "display_data"
    }
   ],
   "source": [
    "clust.df$cluster.assigned=as.factor(clust.df$cluster.assigned)\n",
    "clust.df$group=ifelse(clust.df$trt==1, 'intervention', 'control')\n",
    "                      \n",
    "options(repr.plot.width = 12, repr.plot.height =5) \n",
    "\n",
    "plot.overall=ggplot(clust.df, aes(x=cluster.assigned, y=y, group=group)  )+\n",
    "geom_point(aes(color=group))+scale_color_brewer(palette=\"Dark2\")+\n",
    "ylim( min(clust.df$y), max(clust.df$y))+\n",
    "labs(x=\"Doctor's ID\",y=\"Outcome\")+\n",
    "theme(axis.text.x = element_text(#face = \"bold\", \n",
    "                            color =\"black\", \n",
    "                           size = 15, angle = 0), \n",
    "     axis.text.y = element_text(color =\"black\", \n",
    "                           size = 15,))+\n",
    "ggtitle( '' )+theme(panel.grid.major = element_blank(), panel.grid.minor = element_blank(),\n",
    "panel.background = element_blank(), axis.line = element_line(colour = \"black\"))\n",
    "\n",
    "plot.overall"
   ]
  },
  {
   "cell_type": "code",
   "execution_count": 6,
   "id": "4ba30e33-822c-4d29-a8fe-a4a4e9fdbdb8",
   "metadata": {},
   "outputs": [
    {
     "data": {
      "image/png": "[encoded data removed]",
      "text/plain": [
       "plot without title"
      ]
     },
     "metadata": {
      "image/png": {
       "height": 300,
       "width": 600
      }
     },
     "output_type": "display_data"
    }
   ],
   "source": [
    "options(repr.plot.width = 10, repr.plot.height =5) \n",
    "box.p=ggplot(clust.df, aes(x=cluster.assigned, y=y, color=group)) + \n",
    "labs(x=\"Doctor's ID\",y=\"y\")+\n",
    "  geom_boxplot()+theme(panel.grid.major = element_blank(), panel.grid.minor = element_blank(),\n",
    "panel.background = element_blank(), axis.line = element_line(colour = \"black\"))\n",
    "\n",
    "box.p"
   ]
  },
  {
   "cell_type": "code",
   "execution_count": 7,
   "id": "e187607e-7767-4473-9f51-255cbc0d9103",
   "metadata": {},
   "outputs": [
    {
     "data": {
      "image/png": "[encoded data removed]",
      "text/plain": [
       "plot without title"
      ]
     },
     "metadata": {
      "image/png": {
       "height": 300,
       "width": 600
      }
     },
     "output_type": "display_data"
    }
   ],
   "source": [
    "# check if intervention is different from control if we ignore cluster variable. \n",
    "options(repr.plot.width = 10, repr.plot.height =5) \n",
    "box.p=ggplot(clust.df, aes(x=group, y=y, color=group)) + \n",
    "  geom_boxplot()+theme(panel.grid.major = element_blank(), panel.grid.minor = element_blank(),\n",
    "panel.background = element_blank(), axis.line = element_line(colour = \"black\"))+\n",
    "geom_hline(yintercept=median(clust.df$y[clust.df$trt==0] ), color = \"grey\", linewidth=1)\n",
    "\n",
    "box.p"
   ]
  },
  {
   "cell_type": "code",
   "execution_count": 8,
   "id": "b3f9251d-e1fb-4403-b7b0-a656f48580a1",
   "metadata": {},
   "outputs": [
    {
     "data": {
      "text/html": [
       "<style>\n",
       ".list-inline {list-style: none; margin:0; padding: 0}\n",
       ".list-inline>li {display: inline-block}\n",
       ".list-inline>li:not(:last-child)::after {content: \"\\00b7\"; padding: 0 .5ex}\n",
       "</style>\n",
       "<ol class=list-inline><li>0</li><li>0.5</li><li>0.6</li><li>0.67</li></ol>\n"
      ],
      "text/latex": [
       "\\begin{enumerate*}\n",
       "\\item 0\n",
       "\\item 0.5\n",
       "\\item 0.6\n",
       "\\item 0.67\n",
       "\\end{enumerate*}\n"
      ],
      "text/markdown": [
       "1. 0\n",
       "2. 0.5\n",
       "3. 0.6\n",
       "4. 0.67\n",
       "\n",
       "\n"
      ],
      "text/plain": [
       "[1] 0.00 0.50 0.60 0.67"
      ]
     },
     "metadata": {},
     "output_type": "display_data"
    }
   ],
   "source": [
    "icc.from.tau=function(sigma_b){\n",
    "    return( round( sigma_b/(sigma_b+sigma_e), 2  ) )\n",
    "}\n",
    "\n",
    "sigma_b.vec=matrix( c(0, 1, 1.5, 2), nrow=1)\n",
    "\n",
    "icc.vec=apply(X=sigma_b.vec, MARGIN=2, FUN=icc.from.tau)\n",
    "icc.vec"
   ]
  },
  {
   "cell_type": "code",
   "execution_count": 9,
   "id": "28b5f428-9d15-483d-acd3-22fa5729a891",
   "metadata": {},
   "outputs": [
    {
     "data": {
      "text/html": [
       "<style>\n",
       ".list-inline {list-style: none; margin:0; padding: 0}\n",
       ".list-inline>li {display: inline-block}\n",
       ".list-inline>li:not(:last-child)::after {content: \"\\00b7\"; padding: 0 .5ex}\n",
       "</style>\n",
       "<ol class=list-inline><li>0.805</li><li>0.528</li><li>0.268</li><li>0.118</li></ol>\n"
      ],
      "text/latex": [
       "\\begin{enumerate*}\n",
       "\\item 0.805\n",
       "\\item 0.528\n",
       "\\item 0.268\n",
       "\\item 0.118\n",
       "\\end{enumerate*}\n"
      ],
      "text/markdown": [
       "1. 0.805\n",
       "2. 0.528\n",
       "3. 0.268\n",
       "4. 0.118\n",
       "\n",
       "\n"
      ],
      "text/plain": [
       "[1] 0.805 0.528 0.268 0.118"
      ]
     },
     "metadata": {},
     "output_type": "display_data"
    }
   ],
   "source": [
    "# check the impact of increasing tau on power \n",
    "sig.ind=NULL\n",
    "pwr.icc=NULL\n",
    "nsim=1000\n",
    "k=100\n",
    "ni=400\n",
    "N=ni*2\n",
    "for(ix in 1:length(icc.vec)){\n",
    "    \n",
    "    icc=icc.vec[ix]\n",
    "    sigma_b=icc*sigma_e/(1-icc)\n",
    "    #print(sigma_b)\n",
    "\n",
    "    # Randomize patients to treatment \n",
    "    for (id in 1:nsim){\n",
    "    trt=rbinom(n=N,size=1, prob=0.5)\n",
    "\n",
    "    trt=sort(trt) # sort \n",
    "\n",
    "    ## Assign to clusters in a controlled fashion. \n",
    "    cluster.assigment=c( rep(1:k, each=ni/k ), rep(1:k, each=ni/k ))\n",
    "\n",
    "    # # x-beta \n",
    "    xb=beta*trt # make sure to use the treatment variable that acts behind the scene!\n",
    "\n",
    "    # # simulate cluster random intercept (for now)  \n",
    "    clust.eff=rnorm(n=k, mean=0, sigma_b) # number of clusters is k\n",
    "\n",
    "    clust.eff.vec=clust.eff[cluster.assigment] # assign each cluster to its random intercept \n",
    "\n",
    "    # # generate outcome variable yijk using equation in model 1. \n",
    "    y=rnorm(N, mean=xb,  sigma_e)+clust.eff.vec\n",
    "\n",
    "    # # combine into a dataframe \n",
    "\n",
    "    clust.df=data.frame(y=y, trt=trt,cluster.assigned=cluster.assigment, \n",
    "                        cluster_random_interc=clust.eff.vec) # add icc, number of clusters at a later date. \n",
    "\n",
    "    sig.ind[id]=t.test(y~trt, data=clust.df)$p.value<0.05 }# check if significant. \n",
    "    pwr.icc[ix]=sum(sig.ind)/nsim\n",
    "}\n",
    "\n",
    "pwr.icc"
   ]
  },
  {
   "cell_type": "markdown",
   "id": "d4747916-8e69-4bf3-8465-e5b06a59e8a7",
   "metadata": {},
   "source": [
    "$\\textbf{Findings}$\n",
    "\n",
    "Again, the estimated treatment effect is not affected under this 'factorial  design' way of assigning patients to clusters. It only affects the its variance. \n",
    "\n",
    "It is also clear that there is doctor's effect that can be captured via a random intercept. But there is no interaction between a doctor and the treatment variable. So, there is no need for the random slope. Of course this is expected because of the structure of the data-generating model. "
   ]
  },
  {
   "cell_type": "markdown",
   "id": "27d8af0c-54cc-4884-8793-09801eb68c07",
   "metadata": {},
   "source": [
    "$\\textbf{3. Randomize clusters to treatments}$"
   ]
  },
  {
   "cell_type": "code",
   "execution_count": 10,
   "id": "dd2179d8-5ab3-494d-8d65-03063cbbd4cd",
   "metadata": {},
   "outputs": [
    {
     "data": {
      "text/plain": [
       "                 trt\n",
       "cluster.assigment   0   1\n",
       "               1   87   0\n",
       "               2    0 112\n",
       "               3    0 101\n",
       "               4    0 124\n",
       "               5    0  95\n",
       "               6   91   0\n",
       "               7  102   0\n",
       "               8    0  92\n",
       "               9  109   0\n",
       "               10  87   0"
      ]
     },
     "metadata": {},
     "output_type": "display_data"
    },
    {
     "data": {
      "text/plain": [
       "cluster.assigment\n",
       "  1   2   3   4   5   6   7   8   9  10 \n",
       " 87 112 101 124  95  91 102  92 109  87 "
      ]
     },
     "metadata": {},
     "output_type": "display_data"
    },
    {
     "data": {
      "text/html": [
       "<style>\n",
       ".list-inline {list-style: none; margin:0; padding: 0}\n",
       ".list-inline>li {display: inline-block}\n",
       ".list-inline>li:not(:last-child)::after {content: \"\\00b7\"; padding: 0 .5ex}\n",
       "</style>\n",
       "<ol class=list-inline><li>0</li><li>1</li><li>1</li><li>1</li><li>1</li><li>0</li><li>0</li><li>1</li><li>0</li><li>0</li></ol>\n"
      ],
      "text/latex": [
       "\\begin{enumerate*}\n",
       "\\item 0\n",
       "\\item 1\n",
       "\\item 1\n",
       "\\item 1\n",
       "\\item 1\n",
       "\\item 0\n",
       "\\item 0\n",
       "\\item 1\n",
       "\\item 0\n",
       "\\item 0\n",
       "\\end{enumerate*}\n"
      ],
      "text/markdown": [
       "1. 0\n",
       "2. 1\n",
       "3. 1\n",
       "4. 1\n",
       "5. 1\n",
       "6. 0\n",
       "7. 0\n",
       "8. 1\n",
       "9. 0\n",
       "10. 0\n",
       "\n",
       "\n"
      ],
      "text/plain": [
       " [1] 0 1 1 1 1 0 0 1 0 0"
      ]
     },
     "metadata": {},
     "output_type": "display_data"
    }
   ],
   "source": [
    "# Conduct cluster randomization and generate the correspond data according to model 1\n",
    "beta=0.2 # treatment effect. \n",
    "sigma_e=1\n",
    "# calculate the required sample size for cluster randomization. Suppose that we have a fixed number of clusters and that there are equal number of subjects within each cluster. \n",
    "n.group1=cont.sample.size(m1=9.0,\n",
    "                 m2=9.0+beta,\n",
    "                 sd=sigma_e,\n",
    "                 type_I_error=0.05, \n",
    "                 type_II_error=0.2)\n",
    "\n",
    "k=10 # 10, 20, 50, 100 , the number of equal sized clusters\n",
    "ni=500 # a fixed number of subjects per treatment group\n",
    "N=ni*2 # total number of patients in the trial. \n",
    "\n",
    "# calculate the variance for cluster random effect. \n",
    "icc=0.9   #k/(n.group1) # maximum allowable icc for the current number of clusters is  k/n.group1\n",
    "sigma_b=icc*sigma_e/(1-icc)\n",
    "\n",
    "N=ni*2\n",
    "\n",
    "# Generate cluster id \n",
    "cluster.assigment=sample(x=1:k,size=N, replace=TRUE)\n",
    "\n",
    "# Randomize treatment to the k clusters. \n",
    "trt.cluster=rbinom(n=k,size=1, prob=0.5) \n",
    "\n",
    "trt=trt.cluster[cluster.assigment] # assign each cluster to its appropriate treatment. \n",
    "\n",
    "xb=beta*trt\n",
    "\n",
    "# simulate cluster random intercept (for now)  \n",
    "clust.eff=rnorm(n=k, mean=0, sigma_b) # number of clusters is k\n",
    "\n",
    "clust.vec=clust.eff[cluster.assigment] # assign each cluster to its random intercept \n",
    "\n",
    "\n",
    "# generate outcome variable yijk using equation in model 1. \n",
    "y=rnorm(N, mean=xb,  sigma_e)+clust.vec\n",
    "\n",
    "# combine into a dataframe \n",
    "\n",
    "clust.df=data.frame(y=y, trt=trt, cluster.assigned=cluster.assigment, cluster_random_interc=clust.vec) # add icc, number of clusters at a later date. \n",
    "\n",
    "# sanity checks. \n",
    "table(cluster.assigment, trt) # make sure that no cluster has both intervention and control. \n",
    "table(cluster.assigment)\n",
    "trt.cluster"
   ]
  },
  {
   "cell_type": "code",
   "execution_count": 11,
   "id": "f995d78a-494f-441e-95ad-215669391287",
   "metadata": {},
   "outputs": [
    {
     "data": {
      "text/html": [
       "<style>\n",
       ".list-inline {list-style: none; margin:0; padding: 0}\n",
       ".list-inline>li {display: inline-block}\n",
       ".list-inline>li:not(:last-child)::after {content: \"\\00b7\"; padding: 0 .5ex}\n",
       "</style>\n",
       "<ol class=list-inline><li>0.793</li><li>0.524</li><li>0.537</li><li>0.522</li></ol>\n"
      ],
      "text/latex": [
       "\\begin{enumerate*}\n",
       "\\item 0.793\n",
       "\\item 0.524\n",
       "\\item 0.537\n",
       "\\item 0.522\n",
       "\\end{enumerate*}\n"
      ],
      "text/markdown": [
       "1. 0.793\n",
       "2. 0.524\n",
       "3. 0.537\n",
       "4. 0.522\n",
       "\n",
       "\n"
      ],
      "text/plain": [
       "[1] 0.793 0.524 0.537 0.522"
      ]
     },
     "metadata": {},
     "output_type": "display_data"
    }
   ],
   "source": [
    "# check the impact of increasing tau on power \n",
    "sig.ind=NULL\n",
    "pwr.icc=NULL\n",
    "nsim=1000\n",
    "k=100\n",
    "ni=400\n",
    "N=ni*2\n",
    "for(ix in 1:length(icc.vec)){\n",
    "    \n",
    "    icc=icc.vec[ix]\n",
    "    \n",
    "    sigma_b=icc*sigma_e/(1-icc)\n",
    "    #print(sigma_b)\n",
    "\n",
    "    # Randomize patients to treatment \n",
    "    for (id in 1:nsim){\n",
    "    # Generate cluster id \n",
    "    cluster.assigment=sample(x=1:k,size=N, replace=TRUE)\n",
    "\n",
    "    # Randomize treatment to the k clusters. \n",
    "    trt.cluster=rbinom(n=k,size=1, prob=0.5) \n",
    "\n",
    "    trt=trt.cluster[cluster.assigment] # assign each cluster to its appropriate treatment. \n",
    "\n",
    "    xb=beta*trt\n",
    "\n",
    "    # simulate cluster random intercept (for now)  \n",
    "    clust.eff=rnorm(n=k, mean=0, sigma_b) # number of clusters is k\n",
    "\n",
    "    clust.vec=clust.eff[cluster.assigment] # assign each cluster to its random intercept \n",
    "\n",
    "\n",
    "    # generate outcome variable yijk using equation in model 1. \n",
    "    y=rnorm(N, mean=xb,  sigma_e)+clust.vec\n",
    "\n",
    "    # combine into a dataframe \n",
    "\n",
    "    clust.df=data.frame(y=y, trt=trt, cluster.assigned=cluster.assigment, cluster_random_interc=clust.vec) # add icc, number of clusters at a later date. \n",
    "\n",
    "\n",
    "    sig.ind[id]=t.test(y~trt, data=clust.df)$p.value<0.05 }# check if significant. \n",
    "    pwr.icc[ix]=sum(sig.ind)/nsim\n",
    "}\n",
    "\n",
    "pwr.icc"
   ]
  },
  {
   "cell_type": "code",
   "execution_count": null,
   "id": "d8c54c73-c595-469f-961a-c1c7b22fd7a7",
   "metadata": {},
   "outputs": [],
   "source": []
  }
 ],
 "metadata": {
  "kernelspec": {
   "display_name": "R",
   "language": "R",
   "name": "ir"
  },
  "language_info": {
   "codemirror_mode": "r",
   "file_extension": ".r",
   "mimetype": "text/x-r-source",
   "name": "R",
   "pygments_lexer": "r",
   "version": "4.3.1"
  }
 },
 "nbformat": 4,
 "nbformat_minor": 5
}
