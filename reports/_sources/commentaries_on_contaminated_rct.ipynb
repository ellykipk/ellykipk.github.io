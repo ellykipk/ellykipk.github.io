{
 "cells": [
  {
   "cell_type": "markdown",
   "id": "31cb68c7-d6cc-4517-a90e-1a8b100e619a",
   "metadata": {},
   "source": [
    "# Commentaries on contaminated RCT\n",
    "\n",
    "A documentation of discussions between me, Min and Bin with regards to contamination in randomized clinical trials. \n"
   ]
  },
  {
   "cell_type": "markdown",
   "id": "a4b594b7-aa8e-4b6f-9d64-e0200a72d3fc",
   "metadata": {},
   "source": [
    "$\\small{\\textbf{Randomized patients to treatment first, then to clusters}}$\n",
    "\n",
    "This kind of randomization scheme protects against confouders. However, it posses some significant challenges when it comes to implementation. \n",
    "\n",
    "My strategy to implement this kind of randomization trial.\n",
    "1. Randomize patients to treatment \n",
    "2. For a fixed number of doctors, randomize them to treatment \n",
    "3. For patients in treatment==1, they can be treated only by one of the doctors assigned to only treatment==1. For patients in treatment==0, they can be treated by one of the doctors assigned to only treatment==0. \n",
    "4. Induce contamination on treatment as desired\n",
    "5. Evaluate the impact on statistical power with and without contamination \n",
    "6. Investigate if including doctor's random slope  within a treatment minimizes reduction in power in the presence of contamination. "
   ]
  },
  {
   "cell_type": "markdown",
   "id": "9592862c-ca3e-4bf4-899a-a03d57a317c6",
   "metadata": {},
   "source": [
    "$\\small{\\textbf{Cluster rct with clinician's induced contamination}}$\n",
    "\n",
    "Evaluate the impact of clinicians seeing patients in both control and intervention. Under such a scenario, we expect some level of contamination even though the trial is cluster rct. \n",
    "\n",
    "Investigate if including clinician as a random effect and adding random slope by treatment minimizes the loss of statistical power when we have contamination. \n",
    "\n",
    "It appears as though this is the kind of design that aligns with the one from Min and Bin. Now, instead of randomly assigning doctors to patients conditional on treatment assignment, assign the patients to doctors in a random fashion. It is clear that there is going to be contamination. Unfortunately, we end up losing information on the directionality of the bais. \n",
    "\n",
    "Is it still possible to estimate a debiased treatment effect under these settings? Bin is going to walk us through his thought process and how we can simulate data under this scenario and whether we can estimate the treatment effect. \n",
    "\n",
    "From my conversation with Min and Bin, Bin suggested treating the contamination rate as a random variable as opposed to a fixed unkown value. He pondered whether one can then estimate this contamination rate from the observed data. \n",
    "\n",
    "\n",
    "Min was also concerned about the sample size formula for cluster rct. To address this concern, I am going to find out how the formula in published paper was derived. \n",
    "\n",
    "In any case, the trial data from urinary tract infection (UTI) present unique problems and we hope to address them through valid statistical approaches "
   ]
  },
  {
   "cell_type": "markdown",
   "id": "d9b54c13-b1ad-4dd0-b6f6-0a36e8ec32d4",
   "metadata": {},
   "source": [
    "**Reflecting on contaminated RCT in inpatient settings**\n",
    "\n",
    "There is nothing stopping contamination from taking place even in cluster randomization. The inpatient settings where a provider is likely to attend to multiple patients increases the risk of contamination. \n",
    "\n",
    "Is this the reason for stepped wedge RCT? This kind of RCT is effective in reducing the risk of contamination since it combines both cluster and cross-over design. Here, the patients are randomized to a sequence. The design allows for patients to cross-over to the other treatment arm following the sequence they are randomized into. Of course, this design must include a sufficient washout period to mitigate on carry-over effect. \n",
    "\n",
    "From a logical standpoint, stepped wedge RCT is the solution to contamination problem in the inpatient settings. It has the potential to minimize ignored alerts since providers switch between alert and no-alert arms during the trial. Of course, there is the issue of time. Inpatient patients may not remain hospitalized for a long time. This means that any study of the effectiveness of EHR alert must be based on a clinical endpoint evaluable within a short window of time. But why is stepped wedged RCT not widely used? \n",
    "\n",
    "**Closer look at contamination in the presence of clustering**\n",
    "\n",
    "This study *Lugtenberg, Marjolein, et al. \"Evaluating the uptake and effects of the computerized decision support system NHGDoc on quality of primary care: protocol for a large-scale cluster randomized controlled trial.\"* argues for cluster randomization saying that individual randomization may lead to contamination. I quote 'Moreover, this is done to avoid possible contamination between PCPs working within the same practice yet being allocated to different study groups'\n",
    "\n"
   ]
  },
  {
   "cell_type": "code",
   "execution_count": null,
   "id": "87e237b6-2420-4810-90a2-eda8b2242e5f",
   "metadata": {},
   "outputs": [],
   "source": [
    " "
   ]
  }
 ],
 "metadata": {
  "kernelspec": {
   "display_name": "R",
   "language": "R",
   "name": "ir"
  },
  "language_info": {
   "codemirror_mode": "r",
   "file_extension": ".r",
   "mimetype": "text/x-r-source",
   "name": "R",
   "pygments_lexer": "r",
   "version": "4.3.1"
  }
 },
 "nbformat": 4,
 "nbformat_minor": 5
}
